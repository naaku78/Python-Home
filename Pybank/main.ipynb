{
 "cells": [
  {
   "cell_type": "code",
   "execution_count": 30,
   "metadata": {},
   "outputs": [],
   "source": [
    "# From the pathlib library, import the main class Path\n",
    "from pathlib import Path\n",
    "import csv\n"
   ]
  },
  {
   "cell_type": "code",
   "execution_count": 51,
   "id": "0ec516bf",
   "metadata": {},
   "outputs": [
    {
     "name": "stdout",
     "output_type": "stream",
     "text": [
      "Current Working Directory: c:\\Users\\naaku\\desktop\\Codingdemo\\PythonHome\\Pybank\n"
     ]
    }
   ],
   "source": [
    "# Check the current directory where the Python program is executing from\n",
    "print(f\"Current Working Directory: {Path.cwd()}\")\n",
    "\n",
    "# Set the path using Pathlib\n",
    "#csvfile = Path(\"../Resources/budget_data.csv\")\n",
    "budget_data = Path(\"../Resources/budget_data.csv\")"
   ]
  },
  {
   "cell_type": "code",
   "execution_count": null,
   "id": "2ad088f4",
   "metadata": {},
   "outputs": [],
   "source": [
    "\n",
    "# Open the file in \"read\" mode ('r') and store the contents in the variable 'file'\n",
    "with open(budget_data, newline=\"\") as csvfile:\n",
    "    csvreader = csv.reader(csvfile, delimiter=\",\")\n",
    "    csv_header = next(csvfile)\n",
    "\n",
    "    # skip header row\n",
    "    print(f\"Header: {csv_header}\")\n",
    "\n",
    "# Parse the file line by line\n",
    "    for row in csvreader:\n"
   ]
  },
  {
   "cell_type": "code",
   "execution_count": null,
   "id": "1b677cdb",
   "metadata": {},
   "outputs": [],
   "source": [
    "# find net amount of profit and loss\n",
    "    total_profit = []\n",
    "    total_months = []\n"
   ]
  },
  {
   "cell_type": "code",
   "execution_count": null,
   "id": "59eb4cfc",
   "metadata": {},
   "outputs": [],
   "source": [
    "\n",
    "  #read through each row of data after header\n",
    "    for rows in csvreader:\n",
    "        total_profit.append(int(rows[1]))\n",
    "        total_months.append(rows[0])\n",
    "\n",
    "\n"
   ]
  },
  {
   "cell_type": "code",
   "execution_count": null,
   "id": "fedc366b",
   "metadata": {},
   "outputs": [],
   "source": [
    " # find Profit/Losses  # find revenue change\n",
    "    revenue_change = []\n",
    "\n",
    "    for x in range(1, len(total_profit)):\n",
    "        revenue_change.append((int(total_profit[x]) - int(total_profit[x-1])))\n",
    "    \n"
   ]
  },
  {
   "cell_type": "code",
   "execution_count": null,
   "id": "67909962",
   "metadata": {},
   "outputs": [],
   "source": [
    "  # Calculate the greatest decrease # calculate average revenue change\n",
    "    revenue_average = sum(revenue_change) / len(revenue_change)\n",
    "    \n",
    "    # calculate total length of months\n",
    "    total_months = len(\"months\")\n"
   ]
  },
  {
   "cell_type": "code",
   "execution_count": null,
   "id": "ed12af0c",
   "metadata": {},
   "outputs": [],
   "source": [
    " # Calculate the greatest increase # greatest increase in revenue\n",
    "    greatest_increase = max(revenue_change)\n",
    "    # greatest decrease in revenue\n",
    "    greatest_decrease = min(revenue_change)\n"
   ]
  },
  {
   "cell_type": "code",
   "execution_count": 28,
   "id": "447ab7fa",
   "metadata": {},
   "outputs": [
    {
     "ename": "IndentationError",
     "evalue": "unexpected indent (404611485.py, line 2)",
     "output_type": "error",
     "traceback": [
      "\u001b[1;36m  Input \u001b[1;32mIn [28]\u001b[1;36m\u001b[0m\n\u001b[1;33m    print(\"Financial Analysis\")\u001b[0m\n\u001b[1;37m    ^\u001b[0m\n\u001b[1;31mIndentationError\u001b[0m\u001b[1;31m:\u001b[0m unexpected indent\n"
     ]
    }
   ],
   "source": [
    "# print the Results\n",
    "    print(\"Financial Analysis\")\n",
    "\n",
    "    print(\"....................................................................................\")\n",
    "\n",
    "    print(\"total months: \" + str(total_months))\n",
    "\n",
    "    print(\"Total: \" + \"$\" + str(sum(total_profit)))\n",
    "\n",
    "    print(\"Average change: \" + \"$\" + str(\"revenue_average\"))\n",
    "\n",
    "    print(\"Greatest Increase in Profits: \" + str(\"months\"[revenue_change.index(max(revenue_change))+1]) + \" \" + \"$\" + str(greatest_increase))\n",
    "\n",
    "    print(\"Greatest Decrease in Profits: \" + str(\"months\"[revenue_change.index(min(revenue_change))+1]) + \" \" + \"$\" + str(greatest_decrease))\n"
   ]
  }
 ],
 "metadata": {
  "interpreter": {
   "hash": "fc0b823c51e9bc3bfb6e10b46f948bbc1d9b95c06185d6cafcf0c9a7aa8c3947"
  },
  "kernelspec": {
   "display_name": "Python 3.9.7 ('base')",
   "language": "python",
   "name": "python3"
  },
  "language_info": {
   "codemirror_mode": {
    "name": "ipython",
    "version": 3
   },
   "file_extension": ".py",
   "mimetype": "text/x-python",
   "name": "python",
   "nbconvert_exporter": "python",
   "pygments_lexer": "ipython3",
   "version": "3.9.7"
  }
 },
 "nbformat": 4,
 "nbformat_minor": 5
}
